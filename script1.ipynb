{
 "cells": [
  {
   "cell_type": "code",
   "execution_count": 19,
   "metadata": {},
   "outputs": [],
   "source": [
    "import nltk\n",
    "from nltk.sentiment.vader import SentimentIntensityAnalyzer\n",
    "from nltk.tokenize import word_tokenize\n",
    "from nltk.stem import WordNetLemmatizer\n",
    "from nltk.corpus import stopwords"
   ]
  },
  {
   "cell_type": "markdown",
   "metadata": {},
   "source": [
    "VADER = Valence Aware Dictionary sEntiment Reasoner"
   ]
  },
  {
   "cell_type": "markdown",
   "metadata": {},
   "source": [
    "NLTK = Natural Language Tool Kit"
   ]
  },
  {
   "cell_type": "markdown",
   "metadata": {},
   "source": [
    "# Cleaning/ Pre-processing texts before sentiment analysis"
   ]
  },
  {
   "cell_type": "code",
   "execution_count": 20,
   "metadata": {},
   "outputs": [],
   "source": [
    "raw_text1 = \"This product is very good. I purchased it before also...\"\n",
    "raw_text2 = \"Extremely bad product. Don't buy it.\""
   ]
  },
  {
   "cell_type": "code",
   "execution_count": 21,
   "metadata": {},
   "outputs": [
    {
     "name": "stdout",
     "output_type": "stream",
     "text": [
      "['Extremely', 'bad', 'product', '.', 'Do', \"n't\", 'buy', 'it', '.']\n"
     ]
    }
   ],
   "source": [
    "tokenazed_text = word_tokenize(raw_text2)\n",
    "print(tokenazed_text)"
   ]
  },
  {
   "cell_type": "code",
   "execution_count": 22,
   "metadata": {},
   "outputs": [
    {
     "name": "stdout",
     "output_type": "stream",
     "text": [
      "['Extremely', 'bad', 'product', '.', 'Do', \"n't\", 'buy', '.']\n"
     ]
    }
   ],
   "source": [
    "filtered_text = []\n",
    "for word in tokenazed_text:\n",
    "    if word not in stopwords.words('english'):\n",
    "        filtered_text.append(word)\n",
    "\n",
    "print(filtered_text)"
   ]
  },
  {
   "cell_type": "code",
   "execution_count": 23,
   "metadata": {},
   "outputs": [
    {
     "data": {
      "text/plain": [
       "['Extremely', 'bad', 'product', '.', 'Do', \"n't\", 'buy', '.']"
      ]
     },
     "execution_count": 23,
     "metadata": {},
     "output_type": "execute_result"
    }
   ],
   "source": [
    "lematized_text = []\n",
    "\n",
    "for word in filtered_text:\n",
    "    lematized_text.append(WordNetLemmatizer().lemmatize(word))\n",
    "\n",
    "lematized_text"
   ]
  },
  {
   "cell_type": "code",
   "execution_count": 24,
   "metadata": {},
   "outputs": [
    {
     "name": "stdout",
     "output_type": "stream",
     "text": [
      "Extremely bad product . Do n't buy .\n"
     ]
    }
   ],
   "source": [
    "processed_text = \" \".join(lematized_text)\n",
    "print(processed_text)"
   ]
  },
  {
   "cell_type": "markdown",
   "metadata": {},
   "source": [
    "# Sentiment analysis"
   ]
  },
  {
   "cell_type": "code",
   "execution_count": 25,
   "metadata": {},
   "outputs": [
    {
     "name": "stdout",
     "output_type": "stream",
     "text": [
      "{'neg': 0.431, 'neu': 0.569, 'pos': 0.0, 'compound': -0.5849}\n"
     ]
    }
   ],
   "source": [
    "scores = SentimentIntensityAnalyzer().polarity_scores(processed_text)\n",
    "\n",
    "print(scores)"
   ]
  },
  {
   "cell_type": "code",
   "execution_count": 26,
   "metadata": {},
   "outputs": [
    {
     "name": "stdout",
     "output_type": "stream",
     "text": [
      "Text tone: Negative\n"
     ]
    }
   ],
   "source": [
    "if(scores['compound']>0):\n",
    "    print(\"Text tone: Positive\")\n",
    "elif(scores['compound']==0):\n",
    "    print(\"Text tone: Neutral\")\n",
    "else:\n",
    "    print(\"Text tone: Negative\")"
   ]
  }
 ],
 "metadata": {
  "kernelspec": {
   "display_name": "Python 3",
   "language": "python",
   "name": "python3"
  },
  "language_info": {
   "codemirror_mode": {
    "name": "ipython",
    "version": 3
   },
   "file_extension": ".py",
   "mimetype": "text/x-python",
   "name": "python",
   "nbconvert_exporter": "python",
   "pygments_lexer": "ipython3",
   "version": "3.11.9"
  }
 },
 "nbformat": 4,
 "nbformat_minor": 2
}
